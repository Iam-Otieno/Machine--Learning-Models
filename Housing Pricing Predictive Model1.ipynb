{
 "cells": [
  {
   "cell_type": "markdown",
   "id": "1dacbc16-2a94-43c7-b1cd-c7afe3e7ec4a",
   "metadata": {},
   "source": [
    "# Housing Pricing Predictive Model`"
   ]
  },
  {
   "cell_type": "markdown",
   "id": "0aff93bb-63db-4546-a95d-ac9af18d734d",
   "metadata": {},
   "source": [
    "Importing necessary libraries and Modules"
   ]
  },
  {
   "cell_type": "code",
   "execution_count": null,
   "id": "9da51d92-0c89-43fd-8307-b99c3f0019f9",
   "metadata": {},
   "outputs": [],
   "source": [
    "import pandas as pd\n",
    "import numpy as np\n",
    "import matplotlib.pyplot as plt\n",
    "from sklearn.preprocessing import StandardScaler\n",
    "from sklearn.ensemble import RandomForestRegressor\n",
    "from sklearn.metrics import mean_absolute_error, mean_squared_error, r2_score\n",
    "from sklearn.model_selection import train_test_split\n",
    "import category_encoders as ce"
   ]
  },
  {
   "cell_type": "markdown",
   "id": "e22c52a3-0d91-40af-b2ef-0c7582e2c6ae",
   "metadata": {},
   "source": [
    "Loading the Dataset. The Hosuing Price Dataset "
   ]
  },
  {
   "cell_type": "code",
   "execution_count": null,
   "id": "5ae25ff4-c536-4db7-a6c4-3a52d330d64e",
   "metadata": {},
   "outputs": [],
   "source": [
    "h_p = pd.read_csv(\"Datasets/House_sales_Prices.csv\")\n",
    "\n",
    "h_p1 = h_p.copy()"
   ]
  },
  {
   "cell_type": "markdown",
   "id": "f067fa85-e501-4f1e-8e9e-787106790fd1",
   "metadata": {},
   "source": [
    "Inspecting the Dataset"
   ]
  },
  {
   "cell_type": "code",
   "execution_count": null,
   "id": "d95c9731-fa7b-4a84-a2eb-b544287254c3",
   "metadata": {},
   "outputs": [],
   "source": [
    "def inspec_dataset(df):\n",
    "    \"\"\"\n",
    "    Inspecting and understanding the dataset.\n",
    "    Stats information and summaries, null and duplicate\n",
    "    values\n",
    "    \"\"\"\n",
    "    print(\"\\n Top Rows of House Sales Dataset\")\n",
    "    print(df.head(10))\n",
    "\n",
    "    print(\"\\n General Information about House Sales Dataset\")\n",
    "    print(df.info())\n",
    "\n",
    "    print(\"\\n House Sales Dataset Statistical Sumamries\")\n",
    "    print(df.describe())\n",
    "\n",
    "    print(\"\\n House Sales Dataset Columns:\")\n",
    "    print(df.columns.tolist())"
   ]
  },
  {
   "cell_type": "code",
   "execution_count": null,
   "id": "b1190486-13e3-4145-9d9e-91ef7d0b77b3",
   "metadata": {},
   "outputs": [],
   "source": [
    "inspec_dataset(h_p1)"
   ]
  },
  {
   "cell_type": "markdown",
   "id": "fc6ed389-bcbb-4df8-a379-34f1c86d980f",
   "metadata": {},
   "source": [
    "# Preprocessing of House Price Dataset"
   ]
  },
  {
   "cell_type": "markdown",
   "id": "fe33638c-d1d6-4c3a-a909-a94f78a94c0e",
   "metadata": {},
   "source": [
    "Cleaning null Values"
   ]
  },
  {
   "cell_type": "code",
   "execution_count": null,
   "id": "f7bd44ef-e835-4043-9cf0-0f7af0804d53",
   "metadata": {},
   "outputs": [],
   "source": [
    "\"\"\"\n",
    "Calculating the percentage of null values per column\n",
    "The threahold of null values is pegged at 60%.\n",
    "Any column with >60% of null values  is dropped.\n",
    "\"\"\"\n",
    "missing_percent = h_p1.isna().sum()/len(h_p1)*100 # Calculating % of missing values per column\n",
    "print(missing_percent.sort_values(ascending = True))"
   ]
  },
  {
   "cell_type": "code",
   "execution_count": null,
   "id": "0746a522-bd04-4b07-adf9-369d2edfedf3",
   "metadata": {},
   "outputs": [],
   "source": [
    "threshold = 60\n",
    "columns_to_drop = missing_percent[missing_percent>threshold].index\n",
    "h_p1c = h_p1.drop(columns = columns_to_drop)\n",
    "\n",
    "print(f\"Dropped {len(columns_to_drop)} columns due to excessive missing values.\")"
   ]
  },
  {
   "cell_type": "code",
   "execution_count": null,
   "id": "607f2fe6-52bb-45a3-b266-2f72e0e40a12",
   "metadata": {},
   "outputs": [],
   "source": [
    "h_p1c.shape\n",
    "h_p1c1 = h_p1c.copy()"
   ]
  },
  {
   "cell_type": "code",
   "execution_count": null,
   "id": "57de9bea-e04e-4fec-8371-38f1f06f0f76",
   "metadata": {},
   "outputs": [],
   "source": [
    "# Imputing remaining null values with mean for numerical values and mode for categorical values\n",
    "\n",
    "h_p1c1 = h_p1c1.fillna(h_p1c1.mean(numeric_only = True)) # Imputing null numeric values with the mean"
   ]
  },
  {
   "cell_type": "code",
   "execution_count": null,
   "id": "c4343b1d-3ec1-4596-83fc-dd4d04206cff",
   "metadata": {},
   "outputs": [],
   "source": [
    "h_p1c1.shape"
   ]
  },
  {
   "cell_type": "code",
   "execution_count": null,
   "id": "acdaf165-7c21-4d21-bc8c-fa0c98f09759",
   "metadata": {},
   "outputs": [],
   "source": [
    "h_p1c2 = h_p1c1.fillna(h_p1c1.mode().iloc[0]) # Filling Missing categorcal values with the mode"
   ]
  },
  {
   "cell_type": "code",
   "execution_count": null,
   "id": "a0a85064-c0f2-41ac-b98b-62d0f904e686",
   "metadata": {},
   "outputs": [],
   "source": [
    "h_p1c2.shape"
   ]
  },
  {
   "cell_type": "code",
   "execution_count": null,
   "id": "3b78f495-a8df-432e-8e40-4150661829a4",
   "metadata": {},
   "outputs": [],
   "source": [
    "h_p1c2.isna().sum().tolist() # confirming the dataset has no missing values"
   ]
  },
  {
   "cell_type": "code",
   "execution_count": null,
   "id": "bdaf214a-34ac-4e29-a0db-3cae9b0c4b3c",
   "metadata": {},
   "outputs": [],
   "source": [
    "# Identifying duplicate values\n",
    "h_p1c2.duplicated().sum().tolist() # Apparently shows the dataset has no duplicate values\n"
   ]
  },
  {
   "cell_type": "code",
   "execution_count": null,
   "id": "3d2feab9-b288-47fc-9787-f4fc7ddb86b3",
   "metadata": {},
   "outputs": [],
   "source": [
    "h_p1c2.head(10)"
   ]
  },
  {
   "cell_type": "markdown",
   "id": "733506f8-e63d-418f-9e52-e2fdaed7a4e3",
   "metadata": {},
   "source": [
    "Feature Encording"
   ]
  },
  {
   "cell_type": "code",
   "execution_count": null,
   "id": "c5de6112-d063-4ba5-90fa-02663935db31",
   "metadata": {},
   "outputs": [],
   "source": [
    "h_p1c2.head(10)"
   ]
  },
  {
   "cell_type": "code",
   "execution_count": null,
   "id": "84f27f5a-e2b4-4135-b9a2-b6fe4a85d14d",
   "metadata": {},
   "outputs": [],
   "source": [
    "print(h_p1c2['SalePrice'])"
   ]
  },
  {
   "cell_type": "code",
   "execution_count": null,
   "id": "ca979a98-c8c2-46b8-9c03-8177af6f5d8b",
   "metadata": {},
   "outputs": [],
   "source": [
    "cols_category = h_p1c2.select_dtypes(include = [\"object\"]).columns.tolist() # Separating categorical columns for encording\n",
    "print(f\"Total categorical columns: {len(cols_category)}\")"
   ]
  },
  {
   "cell_type": "code",
   "execution_count": null,
   "id": "3b8445e7-8d49-4ccf-bbc7-9998cedd5ddc",
   "metadata": {},
   "outputs": [],
   "source": [
    "encoder = ce.TargetEncoder(cols = cols_category) # Initializing the encoder"
   ]
  },
  {
   "cell_type": "code",
   "execution_count": null,
   "id": "f69a7de9-697d-4c28-b4b0-7937fefde9f2",
   "metadata": {},
   "outputs": [],
   "source": []
  },
  {
   "cell_type": "code",
   "execution_count": null,
   "id": "d69b6e31-76ea-474f-b827-e57d66dba086",
   "metadata": {},
   "outputs": [],
   "source": [
    "# Splitting the dataset into X,y\n",
    "\n",
    "X = h_p1c2.drop(columns = ['Id', 'SalePrice'])\n",
    "y = h_p1c2['SalePrice']"
   ]
  },
  {
   "cell_type": "code",
   "execution_count": null,
   "id": "50e47025-47d5-42f7-8161-b7679d360b98",
   "metadata": {},
   "outputs": [],
   "source": [
    "# Splitting X, y into training and testing \n",
    "\n",
    "X_train, X_test, y_train, y_test = train_test_split(X,y, test_size = 0.2, random_state = 42)"
   ]
  },
  {
   "cell_type": "code",
   "execution_count": null,
   "id": "b3f493d5-0c11-46a9-a2b8-040fcb814d14",
   "metadata": {},
   "outputs": [],
   "source": [
    "X_train_encoded = encoder.fit_transform(X_train, y_train) # Fitting only on training data to avoid data leakage"
   ]
  },
  {
   "cell_type": "code",
   "execution_count": null,
   "id": "8843eaa0-84d4-49e0-908a-cde255da4b3b",
   "metadata": {},
   "outputs": [],
   "source": [
    "X_test_encoded = encoder.transform(X_test) # tranforming test data"
   ]
  },
  {
   "cell_type": "code",
   "execution_count": null,
   "id": "74396636-c08d-4a69-85e9-e55775d6335a",
   "metadata": {},
   "outputs": [],
   "source": [
    "print(X_train_encoded.head()) # confirming the encoding"
   ]
  },
  {
   "cell_type": "markdown",
   "id": "77369aed-84a1-437b-b99d-8aeabb3e1d91",
   "metadata": {},
   "source": [
    "# Feature Scaling"
   ]
  },
  {
   "cell_type": "code",
   "execution_count": null,
   "id": "b3c981a2-d40d-4863-8231-b5f077fa4ba0",
   "metadata": {},
   "outputs": [],
   "source": [
    "# initialize StandardScaler\n",
    "scaler = StandardScaler()"
   ]
  },
  {
   "cell_type": "code",
   "execution_count": null,
   "id": "011071e5-c306-43be-af76-f808f00a84e0",
   "metadata": {},
   "outputs": [],
   "source": [
    "# Get all columns after encoding\n",
    "\n",
    "all_columns = X_train_encoded.columns.tolist()"
   ]
  },
  {
   "cell_type": "code",
   "execution_count": null,
   "id": "94ba235e-8dfc-442e-8b7e-c6051c632fd6",
   "metadata": {},
   "outputs": [],
   "source": [
    "X_train_encoded"
   ]
  },
  {
   "cell_type": "code",
   "execution_count": null,
   "id": "0742a285-8a00-4af7-a97b-034a5a3dbc85",
   "metadata": {},
   "outputs": [],
   "source": [
    "X_train_scaled = scaler.fit_transform(X_train_encoded) # SCALING THE TRAINING DATSSET"
   ]
  },
  {
   "cell_type": "code",
   "execution_count": null,
   "id": "6097bfa9-ce17-48c0-9cbd-04277a8e5653",
   "metadata": {},
   "outputs": [],
   "source": [
    "X_test_scaled = scaler.transform(X_test_encoded)"
   ]
  },
  {
   "cell_type": "code",
   "execution_count": null,
   "id": "76984ccb-a6e9-4ef5-859d-1b0c4d624965",
   "metadata": {},
   "outputs": [],
   "source": [
    "rf_model = RandomForestRegressor(\n",
    "    n_estimators = 1000, # number of trees\n",
    "    max_depth = 100, # Maximum tree depth\n",
    "    min_samples_split = 10, # minimum sample to split node\n",
    "    random_state = 42,\n",
    "    n_jobs = -1 # Use all CPU cores\n",
    ")\n",
    "rf_model"
   ]
  },
  {
   "cell_type": "code",
   "execution_count": null,
   "id": "0373473b-0a69-4c3b-9525-8826a38fc375",
   "metadata": {},
   "outputs": [],
   "source": [
    "rf_model.fit(X_train_scaled, y_train)"
   ]
  },
  {
   "cell_type": "code",
   "execution_count": null,
   "id": "fec72527-e281-4894-8873-495bfbe64968",
   "metadata": {},
   "outputs": [],
   "source": [
    "y_pred = rf_model.predict(X_test_scaled)"
   ]
  },
  {
   "cell_type": "code",
   "execution_count": null,
   "id": "ba803b51-e7c0-4ad9-950c-127b69a95ac4",
   "metadata": {},
   "outputs": [],
   "source": [
    "mae = mean_absolute_error(y_test, y_pred)\n",
    "mse = mean_squared_error(y_test, y_pred)\n",
    "rmse = mse**0.5 #root mean_squared_error\n",
    "r2 = r2_score(y_test, y_pred)"
   ]
  },
  {
   "cell_type": "code",
   "execution_count": 151,
   "id": "1b6c6985-3cbd-46e3-8485-51a6c51a98e7",
   "metadata": {},
   "outputs": [
    {
     "name": "stdout",
     "output_type": "stream",
     "text": [
      "Mean Absolute Error (MAE): 17174.1685\n",
      "Mean Squared Error (MSE): 850757648.4966\n",
      "Root Mean Squared Error (RMSE): 29167.7501\n",
      "R Squared(R2): 0.8891\n"
     ]
    }
   ],
   "source": [
    "print(f\"Mean Absolute Error (MAE): {mae:.4f}\")\n",
    "print(f\"Mean Squared Error (MSE): {mse:.4f}\")\n",
    "print(f\"Root Mean Squared Error (RMSE): {rmse:.4f}\")\n",
    "print(f\"R Squared(R2): {r2:.4f}\")"
   ]
  },
  {
   "cell_type": "markdown",
   "id": "ec5f308c-db68-49ad-8a4d-92f7bf45b885",
   "metadata": {},
   "source": [
    "# Business Impact Perspective\n",
    "<!-- Metric\tBusiness Question\t            Model's Answer -->\n",
    "<!-- MAE\tHow wrong are we typically?\t            \"We're usually off by $17k\" -->\n",
    "<!-- RMSE\tHow bad can the worst errors get?    \"Biggest mistakes cost ~$29k\" -->\n",
    "<!-- R²\tHow much pattern do we capture?\t     \"We understand 89% of price drivers\" -->"
   ]
  },
  {
   "cell_type": "code",
   "execution_count": null,
   "id": "c3aa9608-efa7-48d4-bfc3-61ce62193593",
   "metadata": {},
   "outputs": [],
   "source": []
  },
  {
   "cell_type": "code",
   "execution_count": null,
   "id": "6aad08c8-f4f6-4ee8-983c-1bde7dad30d9",
   "metadata": {},
   "outputs": [],
   "source": []
  },
  {
   "cell_type": "code",
   "execution_count": null,
   "id": "e276a978-6407-4c7c-b1f9-87efd78ec535",
   "metadata": {},
   "outputs": [],
   "source": []
  },
  {
   "cell_type": "code",
   "execution_count": null,
   "id": "1205147f-67e9-4989-b467-5578e30f6bab",
   "metadata": {},
   "outputs": [],
   "source": []
  },
  {
   "cell_type": "code",
   "execution_count": null,
   "id": "9326cc0e-0524-4bab-8294-8f3f994f7884",
   "metadata": {},
   "outputs": [],
   "source": []
  },
  {
   "cell_type": "code",
   "execution_count": null,
   "id": "da3cfe82-e8f7-4318-b192-6c0b83c22867",
   "metadata": {},
   "outputs": [],
   "source": []
  },
  {
   "cell_type": "code",
   "execution_count": null,
   "id": "4dccbca1-0df0-4451-a6e8-77803c2a3de2",
   "metadata": {},
   "outputs": [],
   "source": []
  },
  {
   "cell_type": "code",
   "execution_count": null,
   "id": "e523781d-d7cc-49e6-bc9e-5466d4d80950",
   "metadata": {},
   "outputs": [],
   "source": []
  },
  {
   "cell_type": "code",
   "execution_count": null,
   "id": "97a75334-2bce-4218-a4bb-9f9725e4b6f8",
   "metadata": {},
   "outputs": [],
   "source": []
  },
  {
   "cell_type": "code",
   "execution_count": null,
   "id": "55cba6a6-1441-4f59-8f7f-8b8b9de4adab",
   "metadata": {},
   "outputs": [],
   "source": []
  },
  {
   "cell_type": "code",
   "execution_count": null,
   "id": "9153f69a-d539-46e9-af58-7009a1f69ee8",
   "metadata": {},
   "outputs": [],
   "source": []
  },
  {
   "cell_type": "code",
   "execution_count": null,
   "id": "82fa7725-ddc1-47ba-85ec-4073551ea06d",
   "metadata": {},
   "outputs": [],
   "source": []
  },
  {
   "cell_type": "code",
   "execution_count": null,
   "id": "247e65e6-2704-442d-877d-a9362b9665ad",
   "metadata": {},
   "outputs": [],
   "source": []
  },
  {
   "cell_type": "code",
   "execution_count": null,
   "id": "800978b3-ab1b-42f4-9028-70b6225af001",
   "metadata": {},
   "outputs": [],
   "source": []
  },
  {
   "cell_type": "code",
   "execution_count": null,
   "id": "53abbf2e-28b4-4153-80ed-1f7ec0e06ce2",
   "metadata": {},
   "outputs": [],
   "source": []
  },
  {
   "cell_type": "code",
   "execution_count": null,
   "id": "8fe562ad-04ce-4f8a-aed4-bc6a0d844d3a",
   "metadata": {},
   "outputs": [],
   "source": []
  },
  {
   "cell_type": "code",
   "execution_count": null,
   "id": "7e3d150d-1aae-4d8b-b9cc-5524be8b1788",
   "metadata": {},
   "outputs": [],
   "source": []
  },
  {
   "cell_type": "code",
   "execution_count": null,
   "id": "66bf6a44-b64b-484f-a9d4-10311f4b7537",
   "metadata": {},
   "outputs": [],
   "source": []
  },
  {
   "cell_type": "code",
   "execution_count": null,
   "id": "d839d0a7-428a-458d-91fc-4aa8da6a542f",
   "metadata": {},
   "outputs": [],
   "source": []
  },
  {
   "cell_type": "code",
   "execution_count": null,
   "id": "3058aa03-978a-472e-b96d-4cedddf37b84",
   "metadata": {},
   "outputs": [],
   "source": []
  },
  {
   "cell_type": "code",
   "execution_count": null,
   "id": "43134220-695f-4857-ba86-4647681a9c78",
   "metadata": {},
   "outputs": [],
   "source": []
  },
  {
   "cell_type": "code",
   "execution_count": null,
   "id": "2bf585f8-8fcb-4d3a-ba51-dd39034b9c27",
   "metadata": {},
   "outputs": [],
   "source": []
  },
  {
   "cell_type": "code",
   "execution_count": null,
   "id": "3743c327-7eda-4462-bf41-183220b11051",
   "metadata": {},
   "outputs": [],
   "source": []
  },
  {
   "cell_type": "code",
   "execution_count": null,
   "id": "e5854286-bbe7-44fd-b4de-7f8ed8351861",
   "metadata": {},
   "outputs": [],
   "source": []
  },
  {
   "cell_type": "code",
   "execution_count": null,
   "id": "7fd6ea73-3654-4f1a-95a6-7b12596d7cc3",
   "metadata": {},
   "outputs": [],
   "source": []
  },
  {
   "cell_type": "code",
   "execution_count": null,
   "id": "25d5ab4c-3e68-40fb-a703-8f08c66bc10c",
   "metadata": {},
   "outputs": [],
   "source": []
  },
  {
   "cell_type": "code",
   "execution_count": null,
   "id": "e5a7ec1e-3d81-40b3-a7c2-e5fd29198655",
   "metadata": {},
   "outputs": [],
   "source": []
  },
  {
   "cell_type": "code",
   "execution_count": null,
   "id": "61375ab8-dc82-4f09-bc36-218eb66c1cf8",
   "metadata": {},
   "outputs": [],
   "source": []
  },
  {
   "cell_type": "code",
   "execution_count": null,
   "id": "e78a3045-c1aa-4fe4-afae-42c16d15c721",
   "metadata": {},
   "outputs": [],
   "source": []
  },
  {
   "cell_type": "code",
   "execution_count": null,
   "id": "559de33e-ed0e-4d98-a570-d07492eab020",
   "metadata": {},
   "outputs": [],
   "source": []
  },
  {
   "cell_type": "code",
   "execution_count": null,
   "id": "f74bbae9-6fac-422e-9952-fb25e28f72b9",
   "metadata": {},
   "outputs": [],
   "source": []
  },
  {
   "cell_type": "code",
   "execution_count": null,
   "id": "da652ebe-757f-48bb-b509-a96d41f2e18d",
   "metadata": {},
   "outputs": [],
   "source": []
  },
  {
   "cell_type": "code",
   "execution_count": null,
   "id": "20a58fa8-cfc1-44b3-a26f-7eb76c05d451",
   "metadata": {},
   "outputs": [],
   "source": []
  },
  {
   "cell_type": "code",
   "execution_count": null,
   "id": "481f0024-9f13-4921-9215-d9d9db3f515a",
   "metadata": {},
   "outputs": [],
   "source": []
  },
  {
   "cell_type": "code",
   "execution_count": null,
   "id": "714648da-5399-4bb5-aec2-3c030164ceb0",
   "metadata": {},
   "outputs": [],
   "source": []
  },
  {
   "cell_type": "code",
   "execution_count": null,
   "id": "19e9a45c-0f30-4f21-9b45-99264035718d",
   "metadata": {},
   "outputs": [],
   "source": []
  },
  {
   "cell_type": "code",
   "execution_count": null,
   "id": "ab7174b5-5877-4545-a922-88867d2b283f",
   "metadata": {},
   "outputs": [],
   "source": []
  },
  {
   "cell_type": "code",
   "execution_count": null,
   "id": "16a72359-6b4b-45ba-8b94-1e2016bc14a1",
   "metadata": {},
   "outputs": [],
   "source": []
  },
  {
   "cell_type": "code",
   "execution_count": null,
   "id": "d535fd90-69d8-4b71-97ce-92f16b4b2cfd",
   "metadata": {},
   "outputs": [],
   "source": []
  },
  {
   "cell_type": "code",
   "execution_count": null,
   "id": "2d23ae3b-44b6-458d-a1fd-baae21379e36",
   "metadata": {},
   "outputs": [],
   "source": []
  },
  {
   "cell_type": "code",
   "execution_count": null,
   "id": "d92e228c-e2d0-40f9-ae8c-da0ea2946511",
   "metadata": {},
   "outputs": [],
   "source": []
  },
  {
   "cell_type": "code",
   "execution_count": null,
   "id": "18f0bcfa-7e97-44da-9bcf-a344517a6246",
   "metadata": {},
   "outputs": [],
   "source": []
  },
  {
   "cell_type": "code",
   "execution_count": null,
   "id": "f361835c-240c-4956-aee4-62e511e6a277",
   "metadata": {},
   "outputs": [],
   "source": []
  },
  {
   "cell_type": "code",
   "execution_count": null,
   "id": "fde73337-5013-42d0-9667-689f7cb7725c",
   "metadata": {},
   "outputs": [],
   "source": []
  },
  {
   "cell_type": "code",
   "execution_count": null,
   "id": "a8e5b580-3504-4bec-9bd5-df182cf08f3a",
   "metadata": {},
   "outputs": [],
   "source": []
  },
  {
   "cell_type": "code",
   "execution_count": null,
   "id": "867e3b21-1462-4505-9794-a34933d44bcb",
   "metadata": {},
   "outputs": [],
   "source": []
  },
  {
   "cell_type": "code",
   "execution_count": null,
   "id": "3174bd70-628a-4a51-9757-8bce13ff4f9b",
   "metadata": {},
   "outputs": [],
   "source": []
  },
  {
   "cell_type": "code",
   "execution_count": null,
   "id": "15505568-7fab-441c-a5dc-538351b03cd7",
   "metadata": {},
   "outputs": [],
   "source": []
  },
  {
   "cell_type": "code",
   "execution_count": null,
   "id": "fe6b5808-63af-48ab-9560-439f8db66904",
   "metadata": {},
   "outputs": [],
   "source": []
  },
  {
   "cell_type": "code",
   "execution_count": null,
   "id": "03844f5b-eacb-446c-a4e6-986811565cb1",
   "metadata": {},
   "outputs": [],
   "source": []
  },
  {
   "cell_type": "code",
   "execution_count": null,
   "id": "d5f12841-c5d4-4fb5-9305-71b80c7092d2",
   "metadata": {},
   "outputs": [],
   "source": []
  },
  {
   "cell_type": "code",
   "execution_count": null,
   "id": "dae69e20-5789-4ceb-b674-f07ab9685c07",
   "metadata": {},
   "outputs": [],
   "source": []
  },
  {
   "cell_type": "code",
   "execution_count": null,
   "id": "5051ba54-ea1f-4a91-b878-9eab2f036a5a",
   "metadata": {},
   "outputs": [],
   "source": []
  },
  {
   "cell_type": "code",
   "execution_count": null,
   "id": "46f7876c-70ba-43e7-8c47-37341ff2a2d8",
   "metadata": {},
   "outputs": [],
   "source": []
  },
  {
   "cell_type": "code",
   "execution_count": null,
   "id": "d4e4c3db-e269-47fc-aac6-d5fa42b6510b",
   "metadata": {},
   "outputs": [],
   "source": []
  },
  {
   "cell_type": "code",
   "execution_count": null,
   "id": "646c80ad-22c4-41dd-b1af-ca4d64d842c5",
   "metadata": {},
   "outputs": [],
   "source": []
  },
  {
   "cell_type": "code",
   "execution_count": null,
   "id": "5c5a2445-2573-475c-95b7-22d9d115266c",
   "metadata": {},
   "outputs": [],
   "source": []
  },
  {
   "cell_type": "code",
   "execution_count": null,
   "id": "1a0dbeb1-5e8e-4def-857d-23455ac5c34f",
   "metadata": {},
   "outputs": [],
   "source": []
  },
  {
   "cell_type": "code",
   "execution_count": null,
   "id": "29ef5ce4-3ffe-4395-b422-5d9a59c72867",
   "metadata": {},
   "outputs": [],
   "source": []
  },
  {
   "cell_type": "code",
   "execution_count": null,
   "id": "3265e7e6-aea7-4e3f-a7cf-6008338de971",
   "metadata": {},
   "outputs": [],
   "source": []
  },
  {
   "cell_type": "code",
   "execution_count": null,
   "id": "28bf9a91-84e7-4fec-bc92-022b2cd30c41",
   "metadata": {},
   "outputs": [],
   "source": []
  },
  {
   "cell_type": "code",
   "execution_count": null,
   "id": "8b44c943-4bef-4a3c-b699-509daa103925",
   "metadata": {},
   "outputs": [],
   "source": []
  },
  {
   "cell_type": "code",
   "execution_count": null,
   "id": "6389fa9a-68d4-4f73-8e31-34b7d791925e",
   "metadata": {},
   "outputs": [],
   "source": []
  },
  {
   "cell_type": "code",
   "execution_count": null,
   "id": "2b4f2ad9-9684-4e28-afd7-42c5d25ee7e3",
   "metadata": {},
   "outputs": [],
   "source": []
  },
  {
   "cell_type": "code",
   "execution_count": null,
   "id": "d818ae12-77f2-4bd6-a60d-6c7bbd565df7",
   "metadata": {},
   "outputs": [],
   "source": []
  },
  {
   "cell_type": "code",
   "execution_count": null,
   "id": "870a3029-f74a-42a7-99af-72539754f6ba",
   "metadata": {},
   "outputs": [],
   "source": []
  },
  {
   "cell_type": "code",
   "execution_count": null,
   "id": "36c3892f-132c-486e-84e3-5abdb5cd2756",
   "metadata": {},
   "outputs": [],
   "source": []
  },
  {
   "cell_type": "code",
   "execution_count": null,
   "id": "0025ad94-adad-4ee5-b8b9-49add9fd4bf7",
   "metadata": {},
   "outputs": [],
   "source": []
  },
  {
   "cell_type": "code",
   "execution_count": null,
   "id": "102f8df8-6446-4cef-81b0-d47ad45a954a",
   "metadata": {},
   "outputs": [],
   "source": []
  },
  {
   "cell_type": "code",
   "execution_count": null,
   "id": "e94d2fa8-1fa7-4b6b-92f2-e0a2448ab1be",
   "metadata": {},
   "outputs": [],
   "source": []
  },
  {
   "cell_type": "code",
   "execution_count": null,
   "id": "df637b1f-a16b-46dd-b0bb-7ae72ca7238e",
   "metadata": {},
   "outputs": [],
   "source": []
  },
  {
   "cell_type": "code",
   "execution_count": null,
   "id": "732fd9e4-51bf-4f61-bf48-2bd1b71d6242",
   "metadata": {},
   "outputs": [],
   "source": []
  },
  {
   "cell_type": "code",
   "execution_count": null,
   "id": "df7052d1-9da4-4f85-9e5e-c1b6ad1327f8",
   "metadata": {},
   "outputs": [],
   "source": []
  },
  {
   "cell_type": "code",
   "execution_count": null,
   "id": "c9b45f8b-45e2-473c-a656-b064ba448f32",
   "metadata": {},
   "outputs": [],
   "source": []
  },
  {
   "cell_type": "code",
   "execution_count": null,
   "id": "e695af51-26b0-4656-b168-7a6f472e2dae",
   "metadata": {},
   "outputs": [],
   "source": []
  },
  {
   "cell_type": "code",
   "execution_count": null,
   "id": "f7dffe51-b215-4088-bb00-dec4a1af5c49",
   "metadata": {},
   "outputs": [],
   "source": []
  },
  {
   "cell_type": "code",
   "execution_count": null,
   "id": "c6baa9f4-11e9-4903-bf9f-b43c9bcc7fe6",
   "metadata": {},
   "outputs": [],
   "source": []
  },
  {
   "cell_type": "code",
   "execution_count": null,
   "id": "f536c023-afd0-465b-9fec-7b4a6ca49686",
   "metadata": {},
   "outputs": [],
   "source": []
  },
  {
   "cell_type": "code",
   "execution_count": null,
   "id": "44d76087-8aaf-42bd-965d-284d4c8bda19",
   "metadata": {},
   "outputs": [],
   "source": []
  },
  {
   "cell_type": "code",
   "execution_count": null,
   "id": "3fe31033-592f-409e-a7aa-15de496407fe",
   "metadata": {},
   "outputs": [],
   "source": []
  },
  {
   "cell_type": "code",
   "execution_count": null,
   "id": "6b8d4894-9020-4bac-92b6-83b6c5a3e54e",
   "metadata": {},
   "outputs": [],
   "source": []
  },
  {
   "cell_type": "code",
   "execution_count": null,
   "id": "33e84e4d-9359-464a-be6d-9542190c9419",
   "metadata": {},
   "outputs": [],
   "source": []
  },
  {
   "cell_type": "code",
   "execution_count": null,
   "id": "0b792f97-67ed-4cee-8b95-7516a55387e6",
   "metadata": {},
   "outputs": [],
   "source": []
  },
  {
   "cell_type": "code",
   "execution_count": null,
   "id": "9d9fd91c-b12f-4631-87c5-c2bbfb1f18a1",
   "metadata": {},
   "outputs": [],
   "source": []
  },
  {
   "cell_type": "code",
   "execution_count": null,
   "id": "e4801cb6-1459-4474-af6d-a7eb607ba559",
   "metadata": {},
   "outputs": [],
   "source": []
  },
  {
   "cell_type": "code",
   "execution_count": null,
   "id": "3b243208-5d47-4f97-a578-e18517d4c8f9",
   "metadata": {},
   "outputs": [],
   "source": []
  },
  {
   "cell_type": "code",
   "execution_count": null,
   "id": "2829f718-69f7-4862-a22c-5282d370a1eb",
   "metadata": {},
   "outputs": [],
   "source": []
  },
  {
   "cell_type": "code",
   "execution_count": null,
   "id": "1a5511bd-698f-4c9a-a036-b8b29456e969",
   "metadata": {},
   "outputs": [],
   "source": []
  },
  {
   "cell_type": "code",
   "execution_count": null,
   "id": "e4eddc25-7e37-41b7-80df-d4f4b3119cfb",
   "metadata": {},
   "outputs": [],
   "source": []
  },
  {
   "cell_type": "code",
   "execution_count": null,
   "id": "7f9a7662-2f8a-4f31-abc8-684548a07ded",
   "metadata": {},
   "outputs": [],
   "source": []
  },
  {
   "cell_type": "code",
   "execution_count": null,
   "id": "6a25d0f3-6870-45ad-8917-46c52641e525",
   "metadata": {},
   "outputs": [],
   "source": []
  },
  {
   "cell_type": "code",
   "execution_count": null,
   "id": "2b842209-94b3-4f64-b6fd-048cc4b49e16",
   "metadata": {},
   "outputs": [],
   "source": []
  },
  {
   "cell_type": "code",
   "execution_count": null,
   "id": "05f9a138-28eb-4b5d-bcf6-1590d297a552",
   "metadata": {},
   "outputs": [],
   "source": []
  },
  {
   "cell_type": "code",
   "execution_count": null,
   "id": "edcab89b-474c-4594-98dc-6c881ab88990",
   "metadata": {},
   "outputs": [],
   "source": []
  },
  {
   "cell_type": "code",
   "execution_count": null,
   "id": "cb9a8654-5dba-4e34-82ef-38b8a0becc80",
   "metadata": {},
   "outputs": [],
   "source": []
  },
  {
   "cell_type": "code",
   "execution_count": null,
   "id": "88257bd0-bb8f-4dd2-8f2f-032013492e0a",
   "metadata": {},
   "outputs": [],
   "source": []
  },
  {
   "cell_type": "code",
   "execution_count": null,
   "id": "8a0780f9-d9ac-4e2e-98c7-1d6abead8d5b",
   "metadata": {},
   "outputs": [],
   "source": []
  },
  {
   "cell_type": "code",
   "execution_count": null,
   "id": "8b2825f6-eac4-4efb-866c-402b50db52ba",
   "metadata": {},
   "outputs": [],
   "source": []
  },
  {
   "cell_type": "code",
   "execution_count": null,
   "id": "cfd69e8c-c173-4563-8303-0bbd1f97e6b5",
   "metadata": {},
   "outputs": [],
   "source": []
  },
  {
   "cell_type": "code",
   "execution_count": null,
   "id": "e709a3ad-4453-4c50-9359-431fd7d7d8ff",
   "metadata": {},
   "outputs": [],
   "source": []
  },
  {
   "cell_type": "code",
   "execution_count": null,
   "id": "7151e300-04f2-4a8e-a63b-ce13c97073e3",
   "metadata": {},
   "outputs": [],
   "source": []
  },
  {
   "cell_type": "code",
   "execution_count": null,
   "id": "4b39c317-65ed-4193-a26a-ca3554d1ff35",
   "metadata": {},
   "outputs": [],
   "source": []
  },
  {
   "cell_type": "code",
   "execution_count": null,
   "id": "dd820a26-8c93-4f1b-93bb-bd25125c9645",
   "metadata": {},
   "outputs": [],
   "source": []
  },
  {
   "cell_type": "code",
   "execution_count": null,
   "id": "82a15d81-b429-4a84-8257-745b870fa3d4",
   "metadata": {},
   "outputs": [],
   "source": []
  },
  {
   "cell_type": "code",
   "execution_count": null,
   "id": "5a744c6b-fa9f-4e79-9394-22d4ffd3f1b4",
   "metadata": {},
   "outputs": [],
   "source": []
  },
  {
   "cell_type": "code",
   "execution_count": null,
   "id": "f5f9bed9-f5c2-4ad1-9094-2981640d3701",
   "metadata": {},
   "outputs": [],
   "source": []
  },
  {
   "cell_type": "code",
   "execution_count": null,
   "id": "3fb55a6a-e162-45a2-827c-6e3a7b44e356",
   "metadata": {},
   "outputs": [],
   "source": []
  },
  {
   "cell_type": "code",
   "execution_count": null,
   "id": "9bc4c01a-d8d1-4292-b774-06b1e08236db",
   "metadata": {},
   "outputs": [],
   "source": []
  },
  {
   "cell_type": "code",
   "execution_count": null,
   "id": "a309cfd3-0bf4-41c2-bf33-08ca73fcbf43",
   "metadata": {},
   "outputs": [],
   "source": []
  },
  {
   "cell_type": "code",
   "execution_count": null,
   "id": "244b80ab-9651-41b8-b5a1-6f67e36a73f3",
   "metadata": {},
   "outputs": [],
   "source": []
  },
  {
   "cell_type": "code",
   "execution_count": null,
   "id": "02b84d3b-09cd-44b1-bd4a-7c0b080107a4",
   "metadata": {},
   "outputs": [],
   "source": []
  },
  {
   "cell_type": "code",
   "execution_count": null,
   "id": "f36ef2d9-60a9-40f8-9fda-d113c80bf768",
   "metadata": {},
   "outputs": [],
   "source": []
  },
  {
   "cell_type": "code",
   "execution_count": null,
   "id": "c0966ab6-5ad3-4706-91f0-c47695bc2d55",
   "metadata": {},
   "outputs": [],
   "source": []
  },
  {
   "cell_type": "code",
   "execution_count": null,
   "id": "739a8777-43c2-4e4e-81b2-7a78b85aa4b9",
   "metadata": {},
   "outputs": [],
   "source": []
  },
  {
   "cell_type": "code",
   "execution_count": null,
   "id": "a5e319d7-9c09-44f1-98d4-1d139576bc4d",
   "metadata": {},
   "outputs": [],
   "source": []
  },
  {
   "cell_type": "code",
   "execution_count": null,
   "id": "1c64c8ad-df99-44c4-96c8-081902be2384",
   "metadata": {},
   "outputs": [],
   "source": []
  },
  {
   "cell_type": "code",
   "execution_count": null,
   "id": "ee509835-0751-410e-8181-3e82b399f4b5",
   "metadata": {},
   "outputs": [],
   "source": []
  },
  {
   "cell_type": "code",
   "execution_count": null,
   "id": "c981620d-0f47-41cb-896e-db01c55fd240",
   "metadata": {},
   "outputs": [],
   "source": []
  },
  {
   "cell_type": "code",
   "execution_count": null,
   "id": "efacccf2-e018-4e4d-a98a-efbb33aeb252",
   "metadata": {},
   "outputs": [],
   "source": []
  },
  {
   "cell_type": "code",
   "execution_count": null,
   "id": "5f490504-cc48-4b48-95a6-e9e59b26eea2",
   "metadata": {},
   "outputs": [],
   "source": []
  },
  {
   "cell_type": "code",
   "execution_count": null,
   "id": "15e3657b-9c37-42bc-bf6b-9a9cc4c696c2",
   "metadata": {},
   "outputs": [],
   "source": []
  },
  {
   "cell_type": "code",
   "execution_count": null,
   "id": "f1fd5ba2-ba38-4f27-a2c0-f7f736d3cbbe",
   "metadata": {},
   "outputs": [],
   "source": []
  },
  {
   "cell_type": "code",
   "execution_count": null,
   "id": "14af7642-a1fe-4ae5-b825-09daa49f61ca",
   "metadata": {},
   "outputs": [],
   "source": []
  },
  {
   "cell_type": "code",
   "execution_count": null,
   "id": "881abc49-2fd5-40f0-9adb-6b9877530af7",
   "metadata": {},
   "outputs": [],
   "source": []
  },
  {
   "cell_type": "code",
   "execution_count": null,
   "id": "50a3c39e-5d5a-4afb-b22c-0b34f03f0721",
   "metadata": {},
   "outputs": [],
   "source": []
  },
  {
   "cell_type": "code",
   "execution_count": null,
   "id": "8daaf354-4cba-43ba-b22e-a226a502b929",
   "metadata": {},
   "outputs": [],
   "source": []
  },
  {
   "cell_type": "code",
   "execution_count": null,
   "id": "8903c98e-b63a-49db-be00-9e7b33ef1c7a",
   "metadata": {},
   "outputs": [],
   "source": []
  },
  {
   "cell_type": "code",
   "execution_count": null,
   "id": "585a8e81-0933-4fbe-80a2-d72b9ab6e2b6",
   "metadata": {},
   "outputs": [],
   "source": []
  },
  {
   "cell_type": "code",
   "execution_count": null,
   "id": "5cd93f37-4444-4267-ba0d-b519e35847df",
   "metadata": {},
   "outputs": [],
   "source": []
  },
  {
   "cell_type": "code",
   "execution_count": null,
   "id": "c78faed6-ea74-4293-b931-01349551c187",
   "metadata": {},
   "outputs": [],
   "source": []
  },
  {
   "cell_type": "code",
   "execution_count": null,
   "id": "b8c03f43-39b6-487a-8b5e-210e21427fb4",
   "metadata": {},
   "outputs": [],
   "source": []
  },
  {
   "cell_type": "code",
   "execution_count": null,
   "id": "ae143810-f5d5-4a63-931f-022c1dbdcd1e",
   "metadata": {},
   "outputs": [],
   "source": []
  }
 ],
 "metadata": {
  "kernelspec": {
   "display_name": "Python [conda env:base] *",
   "language": "python",
   "name": "conda-base-py"
  },
  "language_info": {
   "codemirror_mode": {
    "name": "ipython",
    "version": 3
   },
   "file_extension": ".py",
   "mimetype": "text/x-python",
   "name": "python",
   "nbconvert_exporter": "python",
   "pygments_lexer": "ipython3",
   "version": "3.12.4"
  }
 },
 "nbformat": 4,
 "nbformat_minor": 5
}
